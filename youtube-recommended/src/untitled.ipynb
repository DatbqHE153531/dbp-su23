{
 "cells": [
  {
   "cell_type": "code",
   "execution_count": 1,
   "metadata": {},
   "outputs": [],
   "source": [
    "import pandas as pd"
   ]
  },
  {
   "cell_type": "code",
   "execution_count": 9,
   "metadata": {},
   "outputs": [],
   "source": [
    "df = pd.read_csv(\"E:\\\\WorkSpace\\\\Movie Recommended\\\\input\\\\train_v2.csv\")"
   ]
  },
  {
   "cell_type": "code",
   "execution_count": 10,
   "metadata": {},
   "outputs": [
    {
     "data": {
      "text/html": [
       "<div>\n",
       "<style scoped>\n",
       "    .dataframe tbody tr th:only-of-type {\n",
       "        vertical-align: middle;\n",
       "    }\n",
       "\n",
       "    .dataframe tbody tr th {\n",
       "        vertical-align: top;\n",
       "    }\n",
       "\n",
       "    .dataframe thead th {\n",
       "        text-align: right;\n",
       "    }\n",
       "</style>\n",
       "<table border=\"1\" class=\"dataframe\">\n",
       "  <thead>\n",
       "    <tr style=\"text-align: right;\">\n",
       "      <th></th>\n",
       "      <th>ID</th>\n",
       "      <th>user</th>\n",
       "      <th>movie</th>\n",
       "      <th>rating</th>\n",
       "    </tr>\n",
       "  </thead>\n",
       "  <tbody>\n",
       "    <tr>\n",
       "      <th>0</th>\n",
       "      <td>610739</td>\n",
       "      <td>3704</td>\n",
       "      <td>3784</td>\n",
       "      <td>3</td>\n",
       "    </tr>\n",
       "    <tr>\n",
       "      <th>1</th>\n",
       "      <td>324753</td>\n",
       "      <td>1924</td>\n",
       "      <td>802</td>\n",
       "      <td>3</td>\n",
       "    </tr>\n",
       "    <tr>\n",
       "      <th>2</th>\n",
       "      <td>808218</td>\n",
       "      <td>4837</td>\n",
       "      <td>1387</td>\n",
       "      <td>4</td>\n",
       "    </tr>\n",
       "    <tr>\n",
       "      <th>3</th>\n",
       "      <td>133808</td>\n",
       "      <td>867</td>\n",
       "      <td>1196</td>\n",
       "      <td>4</td>\n",
       "    </tr>\n",
       "    <tr>\n",
       "      <th>4</th>\n",
       "      <td>431858</td>\n",
       "      <td>2631</td>\n",
       "      <td>3072</td>\n",
       "      <td>5</td>\n",
       "    </tr>\n",
       "    <tr>\n",
       "      <th>...</th>\n",
       "      <td>...</td>\n",
       "      <td>...</td>\n",
       "      <td>...</td>\n",
       "      <td>...</td>\n",
       "    </tr>\n",
       "    <tr>\n",
       "      <th>750151</th>\n",
       "      <td>259179</td>\n",
       "      <td>1586</td>\n",
       "      <td>1077</td>\n",
       "      <td>5</td>\n",
       "    </tr>\n",
       "    <tr>\n",
       "      <th>750152</th>\n",
       "      <td>365839</td>\n",
       "      <td>2129</td>\n",
       "      <td>2700</td>\n",
       "      <td>5</td>\n",
       "    </tr>\n",
       "    <tr>\n",
       "      <th>750153</th>\n",
       "      <td>131933</td>\n",
       "      <td>854</td>\n",
       "      <td>3102</td>\n",
       "      <td>3</td>\n",
       "    </tr>\n",
       "    <tr>\n",
       "      <th>750154</th>\n",
       "      <td>671156</td>\n",
       "      <td>4033</td>\n",
       "      <td>3479</td>\n",
       "      <td>5</td>\n",
       "    </tr>\n",
       "    <tr>\n",
       "      <th>750155</th>\n",
       "      <td>121959</td>\n",
       "      <td>786</td>\n",
       "      <td>1391</td>\n",
       "      <td>4</td>\n",
       "    </tr>\n",
       "  </tbody>\n",
       "</table>\n",
       "<p>750156 rows × 4 columns</p>\n",
       "</div>"
      ],
      "text/plain": [
       "            ID  user  movie  rating\n",
       "0       610739  3704   3784       3\n",
       "1       324753  1924    802       3\n",
       "2       808218  4837   1387       4\n",
       "3       133808   867   1196       4\n",
       "4       431858  2631   3072       5\n",
       "...        ...   ...    ...     ...\n",
       "750151  259179  1586   1077       5\n",
       "750152  365839  2129   2700       5\n",
       "750153  131933   854   3102       3\n",
       "750154  671156  4033   3479       5\n",
       "750155  121959   786   1391       4\n",
       "\n",
       "[750156 rows x 4 columns]"
      ]
     },
     "execution_count": 10,
     "metadata": {},
     "output_type": "execute_result"
    }
   ],
   "source": [
    "df"
   ]
  },
  {
   "cell_type": "code",
   "execution_count": 11,
   "metadata": {},
   "outputs": [
    {
     "data": {
      "text/plain": [
       "6040"
      ]
     },
     "execution_count": 11,
     "metadata": {},
     "output_type": "execute_result"
    }
   ],
   "source": [
    "df.user.nunique()"
   ]
  },
  {
   "cell_type": "code",
   "execution_count": 14,
   "metadata": {},
   "outputs": [
    {
     "data": {
      "text/plain": [
       "3676"
      ]
     },
     "execution_count": 14,
     "metadata": {},
     "output_type": "execute_result"
    }
   ],
   "source": [
    "df.movie.nunique()"
   ]
  },
  {
   "cell_type": "code",
   "execution_count": 15,
   "metadata": {},
   "outputs": [
    {
     "data": {
      "text/plain": [
       "(750156, 4)"
      ]
     },
     "execution_count": 15,
     "metadata": {},
     "output_type": "execute_result"
    }
   ],
   "source": [
    "df.shape"
   ]
  },
  {
   "cell_type": "code",
   "execution_count": 1,
   "metadata": {},
   "outputs": [
    {
     "name": "stderr",
     "output_type": "stream",
     "text": [
      "c:\\Users\\loadi\\AppData\\Local\\Programs\\Python\\Python310\\lib\\site-packages\\tqdm\\auto.py:21: TqdmWarning: IProgress not found. Please update jupyter and ipywidgets. See https://ipywidgets.readthedocs.io/en/stable/user_install.html\n",
      "  from .autonotebook import tqdm as notebook_tqdm\n"
     ]
    }
   ],
   "source": [
    "import tez\n",
    "import pandas as pd\n",
    "from sklearn import model_selection\n",
    "import torch\n",
    "import torch.nn as nn\n",
    "from sklearn import metrics, preprocessing\n",
    "import numpy as np\n",
    "\n",
    "class MovieDataset:\n",
    "    def __init__(self, users, movies, ratings):\n",
    "        self.users = users\n",
    "        self.movies = movies\n",
    "        self.ratings = ratings\n",
    "\n",
    "    def __len__(self):\n",
    "        return len(self.users)\n",
    "\n",
    "    def __getitem__(self, item):\n",
    "        user = self.users[item]\n",
    "        movie = self.movies[item]\n",
    "        rating = self.ratings[item]\n",
    "\n",
    "        return {\n",
    "            \"user\": torch.tensor(user, dtype=torch.long),\n",
    "            \"movie\": torch.tensor(movie, dtype=torch.long),\n",
    "            \"rating\": torch.tensor(rating, dtype=torch.long)\n",
    "        }\n",
    "\n",
    "class RecSysModel(tez.Model):\n",
    "    def __init__(self, num_users, num_movies):\n",
    "        super().__init__()\n",
    "        self.user_embed = nn.Embedding(num_users, 32)\n",
    "        self.movie_embed = nn.Embedding(num_movies, 32)\n",
    "        self.out = nn.Linear(64, 1)\n",
    "        self.step_scheduler_after = \"epoch\"\n",
    "\n",
    "    def fetch_optimizer(self):\n",
    "        opt = torch.optim.Adam(self.parameters(), lr=1e-3)\n",
    "        return opt\n",
    "    \n",
    "    def fetch_scheduler(self):\n",
    "        sch = torch.optim.lr_scheduler.StepLR(self.optimizer, step_size=3, gamma=0.7)\n",
    "        return sch\n",
    "\n",
    "    def monitor_metrics(self, output, rating):\n",
    "        output = output.detach().cpu().numpy()\n",
    "        rating = rating.detach().cpu().numpy()\n",
    "\n",
    "        return {\n",
    "            'rmse': np.sqrt(metrics.mean_squared_error(rating, output))\n",
    "        }\n",
    "\n",
    "    def forward(self, users, movies, ratings):\n",
    "        user_embeds = self.user_embed(users)\n",
    "        movie_embeds = self.movie_embed(movies)\n",
    "        output = torch.cat([user_embeds, movie_embeds], dim=1)\n",
    "\n",
    "        loss = nn.MSELoss()(output, ratings.view(-1, 1))\n",
    "        calc_metrics = self.monitor_metrics(output, ratings.view(-1, 1))\n",
    "\n",
    "        return output, loss, calc_metrics\n"
   ]
  },
  {
   "cell_type": "code",
   "execution_count": 2,
   "metadata": {},
   "outputs": [
    {
     "name": "stdout",
     "output_type": "stream",
     "text": [
      "NOTE: This is old Model class and is deprecated. It will no longer be maintained! Please use version > 0.5.1. Its much better and supports multi-gpu training too!\n"
     ]
    },
    {
     "ename": "AssertionError",
     "evalue": "Torch not compiled with CUDA enabled",
     "output_type": "error",
     "traceback": [
      "\u001b[1;31m---------------------------------------------------------------------------\u001b[0m",
      "\u001b[1;31mAssertionError\u001b[0m                            Traceback (most recent call last)",
      "\u001b[1;32me:\\WorkSpace\\Movie Recommended\\src\\untitled.ipynb Cell 8\u001b[0m in \u001b[0;36m<cell line: 25>\u001b[1;34m()\u001b[0m\n\u001b[0;32m     <a href='vscode-notebook-cell:/e%3A/WorkSpace/Movie%20Recommended/src/untitled.ipynb#X10sZmlsZQ%3D%3D?line=20'>21</a>\u001b[0m     model\u001b[39m.\u001b[39mfit(\n\u001b[0;32m     <a href='vscode-notebook-cell:/e%3A/WorkSpace/Movie%20Recommended/src/untitled.ipynb#X10sZmlsZQ%3D%3D?line=21'>22</a>\u001b[0m         train_dataset, valid_dataset, train_bs\u001b[39m=\u001b[39m\u001b[39m1024\u001b[39m, valid_bs\u001b[39m=\u001b[39m\u001b[39m1024\u001b[39m, fp16\u001b[39m=\u001b[39m\u001b[39mTrue\u001b[39;00m\n\u001b[0;32m     <a href='vscode-notebook-cell:/e%3A/WorkSpace/Movie%20Recommended/src/untitled.ipynb#X10sZmlsZQ%3D%3D?line=22'>23</a>\u001b[0m     )\n\u001b[0;32m     <a href='vscode-notebook-cell:/e%3A/WorkSpace/Movie%20Recommended/src/untitled.ipynb#X10sZmlsZQ%3D%3D?line=24'>25</a>\u001b[0m \u001b[39mif\u001b[39;00m \u001b[39m__name__\u001b[39m \u001b[39m==\u001b[39m \u001b[39m\"\u001b[39m\u001b[39m__main__\u001b[39m\u001b[39m\"\u001b[39m:\n\u001b[1;32m---> <a href='vscode-notebook-cell:/e%3A/WorkSpace/Movie%20Recommended/src/untitled.ipynb#X10sZmlsZQ%3D%3D?line=25'>26</a>\u001b[0m     train()\n",
      "\u001b[1;32me:\\WorkSpace\\Movie Recommended\\src\\untitled.ipynb Cell 8\u001b[0m in \u001b[0;36mtrain\u001b[1;34m()\u001b[0m\n\u001b[0;32m     <a href='vscode-notebook-cell:/e%3A/WorkSpace/Movie%20Recommended/src/untitled.ipynb#X10sZmlsZQ%3D%3D?line=15'>16</a>\u001b[0m valid_dataset \u001b[39m=\u001b[39m MovieDataset(\n\u001b[0;32m     <a href='vscode-notebook-cell:/e%3A/WorkSpace/Movie%20Recommended/src/untitled.ipynb#X10sZmlsZQ%3D%3D?line=16'>17</a>\u001b[0m     users\u001b[39m=\u001b[39mdf_valid\u001b[39m.\u001b[39muser\u001b[39m.\u001b[39mvalues, movies\u001b[39m=\u001b[39mdf_valid\u001b[39m.\u001b[39mmovie\u001b[39m.\u001b[39mvalues, ratings\u001b[39m=\u001b[39mdf_valid\u001b[39m.\u001b[39mrating\u001b[39m.\u001b[39mvalues)\n\u001b[0;32m     <a href='vscode-notebook-cell:/e%3A/WorkSpace/Movie%20Recommended/src/untitled.ipynb#X10sZmlsZQ%3D%3D?line=18'>19</a>\u001b[0m model \u001b[39m=\u001b[39m RecSysModel(num_users\u001b[39m=\u001b[39m\u001b[39mlen\u001b[39m(lbl_user\u001b[39m.\u001b[39mclasses_),\n\u001b[0;32m     <a href='vscode-notebook-cell:/e%3A/WorkSpace/Movie%20Recommended/src/untitled.ipynb#X10sZmlsZQ%3D%3D?line=19'>20</a>\u001b[0m                     num_movies\u001b[39m=\u001b[39m\u001b[39mlen\u001b[39m(lbl_movie\u001b[39m.\u001b[39mclasses_))\n\u001b[1;32m---> <a href='vscode-notebook-cell:/e%3A/WorkSpace/Movie%20Recommended/src/untitled.ipynb#X10sZmlsZQ%3D%3D?line=20'>21</a>\u001b[0m model\u001b[39m.\u001b[39;49mfit(\n\u001b[0;32m     <a href='vscode-notebook-cell:/e%3A/WorkSpace/Movie%20Recommended/src/untitled.ipynb#X10sZmlsZQ%3D%3D?line=21'>22</a>\u001b[0m     train_dataset, valid_dataset, train_bs\u001b[39m=\u001b[39;49m\u001b[39m1024\u001b[39;49m, valid_bs\u001b[39m=\u001b[39;49m\u001b[39m1024\u001b[39;49m, fp16\u001b[39m=\u001b[39;49m\u001b[39mTrue\u001b[39;49;00m\n\u001b[0;32m     <a href='vscode-notebook-cell:/e%3A/WorkSpace/Movie%20Recommended/src/untitled.ipynb#X10sZmlsZQ%3D%3D?line=22'>23</a>\u001b[0m )\n",
      "File \u001b[1;32mc:\\Users\\loadi\\AppData\\Local\\Programs\\Python\\Python310\\lib\\site-packages\\tez\\model\\model.py:393\u001b[0m, in \u001b[0;36mModel.fit\u001b[1;34m(self, train_dataset, valid_dataset, train_sampler, valid_sampler, device, epochs, train_bs, valid_bs, n_jobs, callbacks, fp16, train_collate_fn, valid_collate_fn, train_shuffle, valid_shuffle, accumulation_steps, clip_grad_norm)\u001b[0m\n\u001b[0;32m    391\u001b[0m         fp16 \u001b[39m=\u001b[39m \u001b[39mFalse\u001b[39;00m\n\u001b[0;32m    392\u001b[0m         device \u001b[39m=\u001b[39m xm\u001b[39m.\u001b[39mxla_device()\n\u001b[1;32m--> 393\u001b[0m \u001b[39mself\u001b[39;49m\u001b[39m.\u001b[39;49m_init_model(\n\u001b[0;32m    394\u001b[0m     device\u001b[39m=\u001b[39;49mdevice,\n\u001b[0;32m    395\u001b[0m     train_dataset\u001b[39m=\u001b[39;49mtrain_dataset,\n\u001b[0;32m    396\u001b[0m     valid_dataset\u001b[39m=\u001b[39;49mvalid_dataset,\n\u001b[0;32m    397\u001b[0m     train_sampler\u001b[39m=\u001b[39;49mtrain_sampler,\n\u001b[0;32m    398\u001b[0m     valid_sampler\u001b[39m=\u001b[39;49mvalid_sampler,\n\u001b[0;32m    399\u001b[0m     train_bs\u001b[39m=\u001b[39;49mtrain_bs,\n\u001b[0;32m    400\u001b[0m     valid_bs\u001b[39m=\u001b[39;49mvalid_bs,\n\u001b[0;32m    401\u001b[0m     n_jobs\u001b[39m=\u001b[39;49mn_jobs,\n\u001b[0;32m    402\u001b[0m     callbacks\u001b[39m=\u001b[39;49mcallbacks,\n\u001b[0;32m    403\u001b[0m     fp16\u001b[39m=\u001b[39;49mfp16,\n\u001b[0;32m    404\u001b[0m     train_collate_fn\u001b[39m=\u001b[39;49mtrain_collate_fn,\n\u001b[0;32m    405\u001b[0m     valid_collate_fn\u001b[39m=\u001b[39;49mvalid_collate_fn,\n\u001b[0;32m    406\u001b[0m     train_shuffle\u001b[39m=\u001b[39;49mtrain_shuffle,\n\u001b[0;32m    407\u001b[0m     valid_shuffle\u001b[39m=\u001b[39;49mvalid_shuffle,\n\u001b[0;32m    408\u001b[0m     accumulation_steps\u001b[39m=\u001b[39;49maccumulation_steps,\n\u001b[0;32m    409\u001b[0m     clip_grad_norm\u001b[39m=\u001b[39;49mclip_grad_norm,\n\u001b[0;32m    410\u001b[0m )\n\u001b[0;32m    412\u001b[0m \u001b[39mfor\u001b[39;00m _ \u001b[39min\u001b[39;00m \u001b[39mrange\u001b[39m(epochs):\n\u001b[0;32m    413\u001b[0m     \u001b[39mself\u001b[39m\u001b[39m.\u001b[39mtrain_state \u001b[39m=\u001b[39m enums\u001b[39m.\u001b[39mTrainingState\u001b[39m.\u001b[39mEPOCH_START\n",
      "File \u001b[1;32mc:\\Users\\loadi\\AppData\\Local\\Programs\\Python\\Python310\\lib\\site-packages\\tez\\model\\model.py:114\u001b[0m, in \u001b[0;36mModel._init_model\u001b[1;34m(self, device, train_dataset, valid_dataset, train_sampler, valid_sampler, train_bs, valid_bs, n_jobs, callbacks, fp16, train_collate_fn, valid_collate_fn, train_shuffle, valid_shuffle, accumulation_steps, clip_grad_norm)\u001b[0m\n\u001b[0;32m    111\u001b[0m \u001b[39mself\u001b[39m\u001b[39m.\u001b[39mclip_grad_norm \u001b[39m=\u001b[39m clip_grad_norm\n\u001b[0;32m    113\u001b[0m \u001b[39mif\u001b[39;00m \u001b[39mnext\u001b[39m(\u001b[39mself\u001b[39m\u001b[39m.\u001b[39mparameters())\u001b[39m.\u001b[39mdevice \u001b[39m!=\u001b[39m \u001b[39mself\u001b[39m\u001b[39m.\u001b[39mdevice:\n\u001b[1;32m--> 114\u001b[0m     \u001b[39mself\u001b[39;49m\u001b[39m.\u001b[39;49mto(\u001b[39mself\u001b[39;49m\u001b[39m.\u001b[39;49mdevice)\n\u001b[0;32m    116\u001b[0m \u001b[39mif\u001b[39;00m \u001b[39mself\u001b[39m\u001b[39m.\u001b[39mtrain_loader \u001b[39mis\u001b[39;00m \u001b[39mNone\u001b[39;00m:\n\u001b[0;32m    117\u001b[0m     \u001b[39mself\u001b[39m\u001b[39m.\u001b[39mtrain_loader \u001b[39m=\u001b[39m torch\u001b[39m.\u001b[39mutils\u001b[39m.\u001b[39mdata\u001b[39m.\u001b[39mDataLoader(\n\u001b[0;32m    118\u001b[0m         train_dataset,\n\u001b[0;32m    119\u001b[0m         batch_size\u001b[39m=\u001b[39mtrain_bs,\n\u001b[1;32m   (...)\u001b[0m\n\u001b[0;32m    123\u001b[0m         collate_fn\u001b[39m=\u001b[39mtrain_collate_fn,\n\u001b[0;32m    124\u001b[0m     )\n",
      "File \u001b[1;32mc:\\Users\\loadi\\AppData\\Local\\Programs\\Python\\Python310\\lib\\site-packages\\torch\\nn\\modules\\module.py:1145\u001b[0m, in \u001b[0;36mModule.to\u001b[1;34m(self, *args, **kwargs)\u001b[0m\n\u001b[0;32m   1141\u001b[0m         \u001b[39mreturn\u001b[39;00m t\u001b[39m.\u001b[39mto(device, dtype \u001b[39mif\u001b[39;00m t\u001b[39m.\u001b[39mis_floating_point() \u001b[39mor\u001b[39;00m t\u001b[39m.\u001b[39mis_complex() \u001b[39melse\u001b[39;00m \u001b[39mNone\u001b[39;00m,\n\u001b[0;32m   1142\u001b[0m                     non_blocking, memory_format\u001b[39m=\u001b[39mconvert_to_format)\n\u001b[0;32m   1143\u001b[0m     \u001b[39mreturn\u001b[39;00m t\u001b[39m.\u001b[39mto(device, dtype \u001b[39mif\u001b[39;00m t\u001b[39m.\u001b[39mis_floating_point() \u001b[39mor\u001b[39;00m t\u001b[39m.\u001b[39mis_complex() \u001b[39melse\u001b[39;00m \u001b[39mNone\u001b[39;00m, non_blocking)\n\u001b[1;32m-> 1145\u001b[0m \u001b[39mreturn\u001b[39;00m \u001b[39mself\u001b[39;49m\u001b[39m.\u001b[39;49m_apply(convert)\n",
      "File \u001b[1;32mc:\\Users\\loadi\\AppData\\Local\\Programs\\Python\\Python310\\lib\\site-packages\\torch\\nn\\modules\\module.py:797\u001b[0m, in \u001b[0;36mModule._apply\u001b[1;34m(self, fn)\u001b[0m\n\u001b[0;32m    795\u001b[0m \u001b[39mdef\u001b[39;00m \u001b[39m_apply\u001b[39m(\u001b[39mself\u001b[39m, fn):\n\u001b[0;32m    796\u001b[0m     \u001b[39mfor\u001b[39;00m module \u001b[39min\u001b[39;00m \u001b[39mself\u001b[39m\u001b[39m.\u001b[39mchildren():\n\u001b[1;32m--> 797\u001b[0m         module\u001b[39m.\u001b[39;49m_apply(fn)\n\u001b[0;32m    799\u001b[0m     \u001b[39mdef\u001b[39;00m \u001b[39mcompute_should_use_set_data\u001b[39m(tensor, tensor_applied):\n\u001b[0;32m    800\u001b[0m         \u001b[39mif\u001b[39;00m torch\u001b[39m.\u001b[39m_has_compatible_shallow_copy_type(tensor, tensor_applied):\n\u001b[0;32m    801\u001b[0m             \u001b[39m# If the new tensor has compatible tensor type as the existing tensor,\u001b[39;00m\n\u001b[0;32m    802\u001b[0m             \u001b[39m# the current behavior is to change the tensor in-place using `.data =`,\u001b[39;00m\n\u001b[1;32m   (...)\u001b[0m\n\u001b[0;32m    807\u001b[0m             \u001b[39m# global flag to let the user control whether they want the future\u001b[39;00m\n\u001b[0;32m    808\u001b[0m             \u001b[39m# behavior of overwriting the existing tensor or not.\u001b[39;00m\n",
      "File \u001b[1;32mc:\\Users\\loadi\\AppData\\Local\\Programs\\Python\\Python310\\lib\\site-packages\\torch\\nn\\modules\\module.py:820\u001b[0m, in \u001b[0;36mModule._apply\u001b[1;34m(self, fn)\u001b[0m\n\u001b[0;32m    816\u001b[0m \u001b[39m# Tensors stored in modules are graph leaves, and we don't want to\u001b[39;00m\n\u001b[0;32m    817\u001b[0m \u001b[39m# track autograd history of `param_applied`, so we have to use\u001b[39;00m\n\u001b[0;32m    818\u001b[0m \u001b[39m# `with torch.no_grad():`\u001b[39;00m\n\u001b[0;32m    819\u001b[0m \u001b[39mwith\u001b[39;00m torch\u001b[39m.\u001b[39mno_grad():\n\u001b[1;32m--> 820\u001b[0m     param_applied \u001b[39m=\u001b[39m fn(param)\n\u001b[0;32m    821\u001b[0m should_use_set_data \u001b[39m=\u001b[39m compute_should_use_set_data(param, param_applied)\n\u001b[0;32m    822\u001b[0m \u001b[39mif\u001b[39;00m should_use_set_data:\n",
      "File \u001b[1;32mc:\\Users\\loadi\\AppData\\Local\\Programs\\Python\\Python310\\lib\\site-packages\\torch\\nn\\modules\\module.py:1143\u001b[0m, in \u001b[0;36mModule.to.<locals>.convert\u001b[1;34m(t)\u001b[0m\n\u001b[0;32m   1140\u001b[0m \u001b[39mif\u001b[39;00m convert_to_format \u001b[39mis\u001b[39;00m \u001b[39mnot\u001b[39;00m \u001b[39mNone\u001b[39;00m \u001b[39mand\u001b[39;00m t\u001b[39m.\u001b[39mdim() \u001b[39min\u001b[39;00m (\u001b[39m4\u001b[39m, \u001b[39m5\u001b[39m):\n\u001b[0;32m   1141\u001b[0m     \u001b[39mreturn\u001b[39;00m t\u001b[39m.\u001b[39mto(device, dtype \u001b[39mif\u001b[39;00m t\u001b[39m.\u001b[39mis_floating_point() \u001b[39mor\u001b[39;00m t\u001b[39m.\u001b[39mis_complex() \u001b[39melse\u001b[39;00m \u001b[39mNone\u001b[39;00m,\n\u001b[0;32m   1142\u001b[0m                 non_blocking, memory_format\u001b[39m=\u001b[39mconvert_to_format)\n\u001b[1;32m-> 1143\u001b[0m \u001b[39mreturn\u001b[39;00m t\u001b[39m.\u001b[39;49mto(device, dtype \u001b[39mif\u001b[39;49;00m t\u001b[39m.\u001b[39;49mis_floating_point() \u001b[39mor\u001b[39;49;00m t\u001b[39m.\u001b[39;49mis_complex() \u001b[39melse\u001b[39;49;00m \u001b[39mNone\u001b[39;49;00m, non_blocking)\n",
      "File \u001b[1;32mc:\\Users\\loadi\\AppData\\Local\\Programs\\Python\\Python310\\lib\\site-packages\\torch\\cuda\\__init__.py:239\u001b[0m, in \u001b[0;36m_lazy_init\u001b[1;34m()\u001b[0m\n\u001b[0;32m    235\u001b[0m     \u001b[39mraise\u001b[39;00m \u001b[39mRuntimeError\u001b[39;00m(\n\u001b[0;32m    236\u001b[0m         \u001b[39m\"\u001b[39m\u001b[39mCannot re-initialize CUDA in forked subprocess. To use CUDA with \u001b[39m\u001b[39m\"\u001b[39m\n\u001b[0;32m    237\u001b[0m         \u001b[39m\"\u001b[39m\u001b[39mmultiprocessing, you must use the \u001b[39m\u001b[39m'\u001b[39m\u001b[39mspawn\u001b[39m\u001b[39m'\u001b[39m\u001b[39m start method\u001b[39m\u001b[39m\"\u001b[39m)\n\u001b[0;32m    238\u001b[0m \u001b[39mif\u001b[39;00m \u001b[39mnot\u001b[39;00m \u001b[39mhasattr\u001b[39m(torch\u001b[39m.\u001b[39m_C, \u001b[39m'\u001b[39m\u001b[39m_cuda_getDeviceCount\u001b[39m\u001b[39m'\u001b[39m):\n\u001b[1;32m--> 239\u001b[0m     \u001b[39mraise\u001b[39;00m \u001b[39mAssertionError\u001b[39;00m(\u001b[39m\"\u001b[39m\u001b[39mTorch not compiled with CUDA enabled\u001b[39m\u001b[39m\"\u001b[39m)\n\u001b[0;32m    240\u001b[0m \u001b[39mif\u001b[39;00m _cudart \u001b[39mis\u001b[39;00m \u001b[39mNone\u001b[39;00m:\n\u001b[0;32m    241\u001b[0m     \u001b[39mraise\u001b[39;00m \u001b[39mAssertionError\u001b[39;00m(\n\u001b[0;32m    242\u001b[0m         \u001b[39m\"\u001b[39m\u001b[39mlibcudart functions unavailable. It looks like you have a broken build?\u001b[39m\u001b[39m\"\u001b[39m)\n",
      "\u001b[1;31mAssertionError\u001b[0m: Torch not compiled with CUDA enabled"
     ]
    }
   ],
   "source": [
    "def train():\n",
    "    df = pd.read_csv(\"../input/train_v2.csv\")\n",
    "\n",
    "    lbl_user = preprocessing.LabelEncoder()\n",
    "    lbl_movie = preprocessing.LabelEncoder()\n",
    "\n",
    "    df.user = lbl_user.fit_transform(df.user.values)\n",
    "    df.movie = lbl_movie.fit_transform(df.movie.values)\n",
    "\n",
    "    df_train, df_valid = model_selection.train_test_split(\n",
    "        df, test_size=0.1, random_state=42, stratify=df.rating.values)\n",
    "\n",
    "    train_dataset = MovieDataset(\n",
    "        users=df_train.user.values, movies=df_train.movie.values, ratings=df_train.rating.values)\n",
    "\n",
    "    valid_dataset = MovieDataset(\n",
    "        users=df_valid.user.values, movies=df_valid.movie.values, ratings=df_valid.rating.values)\n",
    "\n",
    "    model = RecSysModel(num_users=len(lbl_user.classes_),\n",
    "                        num_movies=len(lbl_movie.classes_))\n",
    "    model.fit(\n",
    "        train_dataset, valid_dataset, train_bs=1024, valid_bs=1024, fp16=True\n",
    "    )\n",
    "\n",
    "if __name__ == \"__main__\":\n",
    "    train()"
   ]
  }
 ],
 "metadata": {
  "kernelspec": {
   "display_name": "Python 3",
   "language": "python",
   "name": "python3"
  },
  "language_info": {
   "codemirror_mode": {
    "name": "ipython",
    "version": 3
   },
   "file_extension": ".py",
   "mimetype": "text/x-python",
   "name": "python",
   "nbconvert_exporter": "python",
   "pygments_lexer": "ipython3",
   "version": "3.10.5"
  },
  "orig_nbformat": 4
 },
 "nbformat": 4,
 "nbformat_minor": 2
}
